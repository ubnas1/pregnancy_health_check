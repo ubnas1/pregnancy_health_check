{
 "cells": [
  {
   "cell_type": "code",
   "execution_count": 1,
   "metadata": {},
   "outputs": [],
   "source": [
    "import csv\n",
    "import sqlite3"
   ]
  },
  {
   "cell_type": "code",
   "execution_count": 2,
   "metadata": {},
   "outputs": [],
   "source": [
    "with open('Resources/maternal.csv', 'r') as csvfile:\n",
    "    csvreader = csv.reader(csvfile)\n",
    "    conn = sqlite3.connect('Resources/database.sqlite')\n",
    "    c = conn.cursor()\n",
    "\n",
    "    c.execute('''CREATE TABLE maternal_mortality_by_country (id numeric primary key, Country text, year_2000 integer, year_2005 integer, year_2010 integer, year_2015 integer, year_2020 integer)''')\n",
    "    for row in csvreader:\n",
    "        c.execute(\"INSERT INTO maternal_mortality_by_country VALUES (?, ?, ?, ?, ?, ?, ?)\", row)\n",
    "    conn.commit()\n",
    "    csvfile.close()\n",
    "    conn.close()"
   ]
  },
  {
   "cell_type": "code",
   "execution_count": null,
   "metadata": {},
   "outputs": [],
   "source": []
  },
  {
   "cell_type": "code",
   "execution_count": null,
   "metadata": {},
   "outputs": [],
   "source": []
  }
 ],
 "metadata": {
  "kernelspec": {
   "display_name": "pythonenv",
   "language": "python",
   "name": "python3"
  },
  "language_info": {
   "codemirror_mode": {
    "name": "ipython",
    "version": 3
   },
   "file_extension": ".py",
   "mimetype": "text/x-python",
   "name": "python",
   "nbconvert_exporter": "python",
   "pygments_lexer": "ipython3",
   "version": "3.9.13"
  },
  "orig_nbformat": 4
 },
 "nbformat": 4,
 "nbformat_minor": 2
}
